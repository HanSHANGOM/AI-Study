{
  "nbformat": 4,
  "nbformat_minor": 0,
  "metadata": {
    "colab": {
      "name": "Lecture19 CNN을 활용한 여러 신경망 모델(RCNN, GAN,Super Resolution).ipynb.ipynb",
      "version": "0.3.2",
      "provenance": [],
      "collapsed_sections": []
    },
    "kernelspec": {
      "name": "python3",
      "display_name": "Python 3"
    }
  },
  "cells": [
    {
      "cell_type": "markdown",
      "metadata": {
        "id": "4yybnRwXQ-IU",
        "colab_type": "text"
      },
      "source": [
        "##1.Deconvolution\n",
        "* convolution된 이미지를 원래로 돌리는 과정으로, semantic segmentation 분야에서 사용됨\n",
        "\n",
        "##2. ZFNet\n",
        "\n",
        "### Dilated Convolution\n",
        "![대체 텍스트](data:image/png;base64,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)\n",
        "* 빨간색 점의 위치에 있는 픽셀만 사용하여 컨볼루션(Atrous convolution,Atrous(구멍)) 빨간색이 아닌 부분은 모두 0값으로 채움\n",
        "\n",
        "### Reverse construction : Visuallizing & Understanding CNN \n",
        "* CNN의 reverse 방향 : pool-relu-conv인데 maxpooling을 어떻게 복구하는가? => 가장 큰 값의 위치를 기억\n",
        "* Feature visualization \n"
      ]
    },
    {
      "cell_type": "markdown",
      "metadata": {
        "id": "vzVblqYuUnlt",
        "colab_type": "text"
      },
      "source": [
        "\n",
        "## 3.Region CNN (R-CNN)\n",
        "### R-CNN\n",
        "* Detection : classification + 물체의 위치 감지\n",
        "* Naive Approach : 모든 이미지 영역에 대해 sliding window 방식으로 이미지를 모두 탐색하면서 분류하는 방식\n",
        " * 탐색해야 하는 영역이 너무 많아 속도가 느림\n",
        "\n",
        "* Region Proposal : 물체가 있을법한 영역을 빠른 속도로 찾는 알고리즘(영역=ROI : Region of Interest)\n",
        "* Region Proposal + CNN\n",
        " 1. 이미지 입력\n",
        " 2. 이미지로부터 2000개정도의 Region proposal 추출\n",
        " 3. Region proposal 을  CNN의 입력으로 하여 특징 추출\n",
        " 4. 분류 (using SVM)\n",
        "\n",
        "* Localization 취약성 : CNN이 Positional Invariance하여 False Positive가 잘 나올 수 있음. 물체가 중앙에 있지 않아도 CNN은 분류해내기 때문에 정확한 위치를 잡기에 부족함.\n",
        "\n"
      ]
    },
    {
      "cell_type": "markdown",
      "metadata": {
        "id": "GiMoDonYXEur",
        "colab_type": "text"
      },
      "source": [
        "### Fast R-CNN\n",
        "* 입력 이미지에 한번만 CNN을 적용하고 RoI pooling으로 객체 판별을 위한 특징을 추출(특징 추출한 후에 ROI 추출)\n",
        "![대체 텍스트](https://t1.daumcdn.net/cfile/tistory/240F6B4358D9BD1D1B)\n",
        "* RoI영역에 해당되는 부분을 Pooling, 7x7 Feature Map 생성, 이를 FC 레이어를 거쳐 Object Class 와 좌표를 얻어내는 구조\n",
        "* RoI Pooling\n",
        " * 어떤 Region이 들어오더라도 Max pooling을 이용하여 동일한 output feature map의 크기를 갖도록 하는 방법\n",
        "\n",
        "* 로드뷰 서비스에서 개인정보의 보호가 필요해 차량의 번호 등을 Fast R-CNN을 적용\n",
        "\n",
        "### Faster R-CNN\n",
        "* link : \n",
        "* Faster R-CNN은 리전 프로포잘 단계를 CNN안에 넣어서 마지막 병목현상 문제를 해결\n",
        "* CNN을 통과한 특성 맵에서 슬라이딩 윈도우를 이용해 각 지점anchor(bounding box)마다 가능한 바운딩 박스의 좌표와 이 바운딩 박스의 점수를 계산\n",
        "* 대부분 너무 홀쭉하거나 넓은 물체는 많지 않으므로 anchor는 2:1, 1:1, 1:2 등의 몇가지 타입으로도 좋음\n",
        "\n",
        "\n",
        "### Mask R-CNN\n",
        "\n",
        "* binary mask를 찾기 위해 2D 선형보간법을 애용해 RoIAlign함."
      ]
    },
    {
      "cell_type": "markdown",
      "metadata": {
        "id": "y6gZmX1fcS-5",
        "colab_type": "text"
      },
      "source": [
        "## 4.Super Resolution\n",
        "\n",
        "### super Resolution CNN 구조\n",
        "\n",
        "* 학습에는 MSE 사용\n",
        "* CNN을 사용하여 이미지를 연산하기 전에 이미지의 크기를 키움, Bicubic upsampling이라는 방법이 사용됨\n",
        "\n",
        "### SRCNN\n",
        "![대체 텍스트](https://jamiekang.github.io/media/2017-04-24-image-super-resolution-using-deep-convolutional-networks-fig2.jpg)\n",
        "\n",
        "* SRCNN에서 사용하는 성능의 지표\n",
        " * PSNR : 원본과 비교대상이 되는 이미지 사이의 수치적 차이(다운샘플링한다음에 넣은 이미지와 원본의 비교)\n",
        "\n",
        "\n",
        "Ground truth?\n"
      ]
    },
    {
      "cell_type": "markdown",
      "metadata": {
        "id": "OdXwCj19dY5p",
        "colab_type": "text"
      },
      "source": [
        "## 5.GAN\n",
        "\n",
        "### GAN Architecture\n",
        "![대체 텍스트](https://skymind.ai/images/wiki/gan_schema.png)\n",
        "\n",
        "\n",
        "### GAN 학습 과정\n",
        "![대체 텍스트](https://1.bp.blogspot.com/-_ZpVHCkqwJI/WHjwzlgki8I/AAAAAAAABKk/e3xQukjtHBoxoQyLA7Fn-GhL7t8mgBFMwCK4B/s640/%25EA%25B7%25B8%25EB%25A6%25BC5.PNG)\n",
        "* 검은 점 Data generation distribution\n",
        "* 파란 점 discriminator distribuion\n",
        "* 녹색 점 Generative Distribution : 학습되면서 data generation distribution과 같아진다.\n"
      ]
    },
    {
      "cell_type": "code",
      "metadata": {
        "id": "nG2EXg1zdV5j",
        "colab_type": "code",
        "colab": {}
      },
      "source": [
        ""
      ],
      "execution_count": 0,
      "outputs": []
    }
  ]
}