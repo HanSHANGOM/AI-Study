{
  "nbformat": 4,
  "nbformat_minor": 0,
  "metadata": {
    "colab": {
      "name": "Lecture16 Convolution & CNN.ipynb",
      "version": "0.3.2",
      "provenance": [],
      "collapsed_sections": []
    },
    "kernelspec": {
      "name": "python3",
      "display_name": "Python 3"
    }
  },
  "cells": [
    {
      "cell_type": "markdown",
      "metadata": {
        "id": "BwjDStqzM8fD",
        "colab_type": "text"
      },
      "source": [
        "##1.합성곱\n",
        "\n",
        "### Convolution\n",
        "\n",
        "![convolution, cross correlation, autocorrelation](https://upload.wikimedia.org/wikipedia/commons/thumb/2/21/Comparison_convolution_correlation.svg/400px-Comparison_convolution_correlation.svg.png)\n",
        "* convolution : 하나의 함수와 또 다른 함수를 반전 이동한 값을 곱한 다음, 구간에 대해 적분하여 새로운 함수를 구하는 수학 연산\n",
        "\n",
        "* 이미지와 convolution filter를 곱해서 새로운 이미지를 얻는 과정\n",
        "![대체 텍스트](https://leonardoaraujosantos.gitbooks.io/artificial-inteligence/content/Images/Conv2dUsage1.png)\n",
        "* 필터의 종류에 따라 얻어지는 이미지가 상이함\n",
        "\n",
        "### 기존 MLP의 문제점\n",
        "\n",
        " augmentation이 적용된다면 그것을 일일히 다 학습해야함.\n",
        "\n",
        "### 특징을 사용한 합성곱 신경망\n",
        "입력이미지의 특징을 추출(Convolution, Pooling), 분류(Fully-connected)하는 과정으로 동작\n",
        "\n",
        "* 컨볼루션 커널과 입력 이미지의 요소별 연산(Element-wise)\n",
        "* 여러개의 값을 곱하여 하나의 합으로 계산\n",
        "\n",
        "* 특징 추출 과정은 대략적으로 filter를 통해  feature map 생성하는 과정으로 요약할 수 있다. \n",
        "* convolution\n",
        "\n",
        "### Pooling(subsampling)\n",
        "![pooling](https://miro.medium.com/max/1304/1*Sh9e6Hzx8ZcOinuLvy8Fmw.png)\n",
        "* 풀링은 이미지의 왜곡의 영향(noise)를 축소하는 과정. noise를 줄이기 위해 대표적인 값을 사용\n",
        "* max pooling, Average pooling 을 대표적으로 사용\n",
        "\n",
        "### 활성화 함수\n",
        "![activation function](https://miro.medium.com/max/1400/0*44z992IXd9rqyIWk.png)\n",
        "* 요소별 연산 이후, 다음 뉴런으로 값의 전달 여부 결정 \n",
        "\n",
        "\n"
      ]
    },
    {
      "cell_type": "markdown",
      "metadata": {
        "id": "-XF4eWobaYVu",
        "colab_type": "text"
      },
      "source": [
        "##2.합성곱 신경망\n",
        "\n",
        " 합성곱 연산을 사용하는 ANN으로, 3차원의 공간적 정보를 유지한 채 다음 레이어로 보낼 수 있다.\n",
        "\n",
        "###CNN 구조\n",
        "\n",
        "(이미지)\n",
        "### 완전연결 계층의 문제점 : 데이터 형상의 무시\n",
        "\n",
        "세로,가로,채널(색상)으로 구성된 3차원 데이터인 이미지가 fully connected layer에 입력될 때, 1차원 데이터로 flatten되면서 공간적 정보를 잃게 된다. \n",
        "\n",
        "###합성곱+편향\n",
        "![대체 텍스트](https://t1.daumcdn.net/cfile/tistory/999A64465C4D20E319)\n",
        "\n",
        "필터를 적용한 후, 모든 원소에 편향이 더해진다.(numpy broadcast)\n",
        "\n"
      ]
    },
    {
      "cell_type": "markdown",
      "metadata": {
        "id": "5hn6re2Maeto",
        "colab_type": "text"
      },
      "source": [
        "### padding\n",
        "합성곱 연산을 수행하기 전에 데이터 주변을 특정 값을 채우는 단계\n",
        "\n",
        "### Stride\n",
        "필터를 적용하는 위치의 간격\n",
        "\n",
        "### 출력 크기 계산\n",
        "![대체 텍스트](https://t1.daumcdn.net/cfile/tistory/99972A395C4D270E12)\n",
        "\n",
        "* 출력 크기는 정수로 나누어 떨어지는 값이어야 한다.\n",
        "* 딥러닝 프레임워크 중에는 값이 딱 나누어 떨어지지 않을 때, 가장 가까운 정수로 반올림하는 경우도 있다.\n"
      ]
    },
    {
      "cell_type": "markdown",
      "metadata": {
        "id": "pgk5vU7Wand8",
        "colab_type": "text"
      },
      "source": [
        "###채널까지 고려한 3차원 데이터\n",
        "필터도 이미지와 같은 채널의 개수를 갖고 있어야 한다.\n",
        "\n",
        "###여러개의 데이터에 대한 합성곱 연산\n",
        "![대체 텍스트](https://t1.daumcdn.net/cfile/tistory/99E4C84E5C4D31B728)\n",
        "\n",
        "* 배치처리를 통해 학습을 한번에 수행\n",
        "* N : 데이터의 개수\n",
        "* FN : 이미지에 적용되는 필터의 개수\n",
        "* 필터를 적용하면 채널 유지, H는 OH, W는 OW로 바뀜\n",
        "* 편향까지 적용후에  FN이 채널수가 된다?\n"
      ]
    },
    {
      "cell_type": "markdown",
      "metadata": {
        "id": "iH61T0mycURO",
        "colab_type": "text"
      },
      "source": [
        "###풀링 계층의 특징\n",
        "* 채널 수 그대로 출력됨.\n",
        "* 입력 데이터가 조금 변해도 풀링의 결과는 잘 변하지 않는다.\n",
        "\n",
        "###spatial demension?\n",
        "\n",
        "###im2col\n",
        "* 입력데이터를 필터링하기 쉽도록 전개\n",
        " * 입력데이터를 가로로 펼치고 필터를 세로로 펼쳐서 계산\n",
        "\n"
      ]
    },
    {
      "cell_type": "code",
      "metadata": {
        "id": "FedCKp0XfAEl",
        "colab_type": "code",
        "colab": {}
      },
      "source": [
        ""
      ],
      "execution_count": 0,
      "outputs": []
    }
  ]
}